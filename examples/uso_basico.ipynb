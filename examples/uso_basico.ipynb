{
 "cells": [
  {
   "cell_type": "markdown",
   "metadata": {},
   "source": [
    "# Exemplo Detalhado de Uso - Cluster Fácil\n",
    "\n",
    "Este notebook demonstra os passos essenciais e funcionalidades adicionais da biblioteca `cluster-facil`."
   ]
  },
  {
   "cell_type": "markdown",
   "metadata": {},
   "source": [
    "## 1. Instalação\n",
    "\n",
    "Se você ainda não instalou a biblioteca, descomente e execute a célula abaixo. Ela instalará a versão mais recente diretamente do repositório GitHub."
   ]
  },
  {
   "cell_type": "code",
   "execution_count": null,
   "metadata": {},
   "outputs": [],
   "source": [
    "# !pip install git+https://github.com/bdcdo/cluster-facil.git\n",
    "# \n",
    "# # Instale também dependências opcionais se for usar:\n",
    "# !pip install matplotlib openpyxl pyarrow"
   ]
  },
  {
   "cell_type": "markdown",
   "metadata": {},
   "source": [
    "## 2. Importações e Dados de Exemplo\n",
    "\n",
    "Vamos importar o `pandas` para criar nosso DataFrame de exemplo e a classe `ClusterFacil` da nossa biblioteca."
   ]
  },
  {
   "cell_type": "code",
   "execution_count": null,
   "metadata": {},
   "outputs": [],
   "source": [
    "import pandas as pd\n",
    "from cluster_facil import ClusterFacil\n",
    "\n",
    "# Criando um DataFrame de exemplo simples com textos\n",
    "data = {'id': [1, 2, 3, 4, 5, 6, 7, 8],\n",
    "        'texto_documento': [\n",
    "            \"O juiz determinou o pagamento da indenização.\",\n",
    "            \"Recurso de apelação foi interposto pela defesa.\",\n",
    "            \"A sentença julgou procedente o pedido do autor.\",\n",
    "            \"A corte negou provimento ao recurso especial.\",\n",
    "            \"Processo arquivado por falta de movimentação.\",\n",
    "            \"Acordo homologado entre as partes.\",\n",
    "            \"Indenização por danos morais foi concedida.\",\n",
    "            \"Extinção do processo sem resolução de mérito.\"\n",
    "        ]}"
   ]
  },
  {
   "cell_type": "code",
   "execution_count": null,
   "metadata": {},
   "outputs": [],
   "source": [
    "df_exemplo = pd.DataFrame(data)\n",
    "\n",
    "print(\"DataFrame de Exemplo:\")\n",
    "display(df_exemplo)"
   ]
  },
  {
   "cell_type": "markdown",
   "metadata": {},
   "source": [
    "## 3. Inicializando o ClusterFacil\n",
    "\n",
    "Criamos uma instância da classe, passando nosso DataFrame.\n",
    "Usamos `random_state=42` para garantir que os resultados da clusterização sejam reprodutíveis."
   ]
  },
  {
   "cell_type": "code",
   "execution_count": null,
   "metadata": {},
   "outputs": [],
   "source": [
    "cf = ClusterFacil(df_exemplo, random_state=42)"
   ]
  },
  {
   "cell_type": "markdown",
   "metadata": {},
   "source": [
    "## 4. Preparando os Dados e Analisando o Cotovelo\n",
    "\n",
    "Chamamos o método `preparar`. Ele fará o pré-processamento (TF-IDF) e **exibirá o gráfico do método do cotovelo** (se `matplotlib` estiver instalado e `plotar_cotovelo=True`, que é o padrão).\n",
    "\n",
    "Precisamos informar:\n",
    "*   `coluna_textos`: O nome da coluna que contém os textos.\n",
    "*   `limite_k` (opcional): O número máximo de clusters (K) a testar no método do cotovelo (padrão é 10)."
   ]
  },
  {
   "cell_type": "code",
   "execution_count": null,
   "metadata": {},
   "outputs": [],
   "source": [
    "print(\"Iniciando a preparação e geração do gráfico do cotovelo...\")\n",
    "cf.preparar(coluna_textos='texto_documento', limite_k=5)\n",
    "print(\"Preparação concluída.\")"
   ]
  },
  {
   "cell_type": "markdown",
   "metadata": {},
   "source": [
    "### Analisando o Gráfico do Cotovelo\n",
    "\n",
    "Olhe o gráfico gerado acima. O eixo Y mostra a inércia (WCSS - Within-Cluster Sum of Squares) e o eixo X mostra o número de clusters (K).\n",
    "\n",
    "Procure por um \"cotovelo\" (elbow) na curva: um ponto onde a taxa de diminuição da inércia desacelera significativamente. Adicionar mais clusters depois desse ponto geralmente não traz um ganho tão grande na separação dos grupos.\n",
    "\n",
    "**Neste exemplo, o cotovelo parece estar em K=3.**"
   ]
  },
  {
   "cell_type": "markdown",
   "metadata": {},
   "source": [
    "## 5. Clusterizando\n",
    "\n",
    "Agora que escolhemos nosso K (K=3), vamos executar a clusterização com o método `clusterizar`."
   ]
  },
  {
   "cell_type": "code",
   "execution_count": null,
   "metadata": {},
   "outputs": [],
   "source": [
    "k_escolhido = 3\n",
    "print(f\"Executando a clusterização com K={k_escolhido}...\")\n",
    "nome_coluna_cluster = cf.clusterizar(num_clusters=k_escolhido)\n",
    "print(f\"Clusterização concluída. Coluna '{nome_coluna_cluster}' adicionada ao DataFrame.\")"
   ]
  },
  {
   "cell_type": "markdown",
   "metadata": {},
   "source": [
    "## 6. Verificando o Resultado da Clusterização\n",
    "\n",
    "O DataFrame original dentro do objeto `cf` agora possui a nova coluna (ex: `cluster_1`) com o ID do cluster atribuído a cada documento."
   ]
  },
  {
   "cell_type": "code",
   "execution_count": null,
   "metadata": {},
   "outputs": [],
   "source": [
    "print(\"DataFrame com a coluna de cluster:\")\n",
    "display(cf.df[['id', nome_coluna_cluster, 'texto_documento']])"
   ]
  },
  {
   "cell_type": "markdown",
   "metadata": {},
   "source": [
    "## 7. Salvando os Resultados\n",
    "\n",
    "Podemos salvar o DataFrame completo e/ou amostras de cada cluster usando o método `salvar`."
   ]
  },
  {
   "cell_type": "code",
   "execution_count": null,
   "metadata": {},
   "outputs": [],
   "source": [
    "print(\"Salvando os resultados...\")\n",
    "status_salvar = cf.salvar(\n",
    "    o_que_salvar='ambos',      # Salva o DF completo e as amostras\n",
    "    formato_tudo='csv',        # Salva o DF completo como CSV\n",
    "    formato_amostras='xlsx',   # Salva as amostras como Excel (requer openpyxl)\n",
    "    # caminho_tudo='output/meu_df_completo.csv', # Opcional: caminho específico\n",
    "    # caminho_amostras='output/minhas_amostras.xlsx', # Opcional: caminho específico\n",
    "    # diretorio_saida='output/' # Opcional: diretório para nomes padrão\n",
    ")\n",
    "\n",
    "print(\"\\nStatus do salvamento:\")\n",
    "print(status_salvar)\n",
    "\n",
    "if status_salvar.get('tudo_salvo'):\n",
    "    print(f\"- DataFrame completo salvo em: {status_salvar.get('caminho_tudo')}\")\n",
    "if status_salvar.get('amostras_salvas'):\n",
    "    print(f\"- Amostras salvas em: {status_salvar.get('caminho_amostras')}\")"
   ]
  },
  {
   "cell_type": "markdown",
   "metadata": {},
   "source": [
    "## 8. Classificando Clusters\n",
    "\n",
    "Após analisar as amostras ou o DataFrame completo, podemos atribuir rótulos (classificações) aos clusters usando o método `classificar`.\n",
    "\n",
    "Isso cria/atualiza a coluna definida em `nome_coluna_classificacao` (padrão: 'classificacao')."
   ]
  },
  {
   "cell_type": "code",
   "execution_count": null,
   "metadata": {},
   "outputs": [],
   "source": [
    "# Supondo que, após análise, o cluster 0 e 2 são 'Procedente/Indenização'\n",
    "# e o cluster 1 é 'Recurso/Extinção'\n",
    "cf.classificar(cluster_ids=[0, 2], classificacao='Procedente/Indenização')\n",
    "cf.classificar(cluster_ids=1, classificacao='Recurso/Extinção')\n",
    "\n",
    "print(\"DataFrame com a coluna de classificação:\")\n",
    "# Exibindo colunas relevantes\n",
    "display(cf.df[['id', nome_coluna_cluster, cf.nome_coluna_classificacao, 'texto_documento']])"
   ]
  },
  {
   "cell_type": "markdown",
   "metadata": {},
   "source": [
    "## 9. Listando e Contando Classificações\n",
    "\n",
    "Podemos ver as classificações únicas e suas contagens."
   ]
  },
  {
   "cell_type": "code",
   "execution_count": null,
   "metadata": {},
   "outputs": [],
   "source": [
    "print(\"Classificações únicas:\", cf.listar_classificacoes())\n",
    "print(\"\\nContagem por classificação:\")\n",
    "print(cf.contar_classificacoes())"
   ]
  },
  {
   "cell_type": "markdown",
   "metadata": {},
   "source": [
    "## 10. Criando um Subcluster\n",
    "\n",
    "Se quisermos analisar mais a fundo um grupo específico (uma classificação), podemos criar um subcluster.\n",
    "O método `subcluster` retorna uma **nova instância** de `ClusterFacil`, contendo apenas os dados da classificação desejada e pronta para um novo ciclo de `preparar` -> `clusterizar`."
   ]
  },
  {
   "cell_type": "code",
   "execution_count": null,
   "metadata": {},
   "outputs": [],
   "source": [
    "classificacao_alvo = 'Procedente/Indenização'\n",
    "print(f\"Criando subcluster para '{classificacao_alvo}'...\")\n",
    "sub_cf = cf.subcluster(classificacao_alvo)\n",
    "\n",
    "print(f\"Nova instância 'sub_cf' criada com {len(sub_cf.df)} linhas.\")\n",
    "print(\"DataFrame do subcluster (observe a coluna 'classificacao_origem'):\")\n",
    "display(sub_cf.df.head())"
   ]
  },
  {
   "cell_type": "markdown",
   "metadata": {},
   "source": [
    "### Clusterizando o Subcluster\n",
    "\n",
    "Agora podemos aplicar o processo novamente, mas apenas nos dados do subcluster."
   ]
  },
  {
   "cell_type": "code",
   "execution_count": null,
   "metadata": {},
   "outputs": [],
   "source": [
    "print(\"Preparando o subcluster...\")\n",
    "# Usamos a mesma coluna de texto original. limite_k pode ser menor.\n",
    "# O gráfico do cotovelo será exibido para o subcluster.\n",
    "sub_cf.preparar(coluna_textos='texto_documento', limite_k=3, plotar_cotovelo=True)\n",
    "\n",
    "# Supondo que o cotovelo para o subcluster sugira K=2\n",
    "k_subcluster = 2\n",
    "print(f\"\\nClusterizando o subcluster com K={k_subcluster}...\")\n",
    "nome_coluna_subcluster = sub_cf.clusterizar(num_clusters=k_subcluster)\n",
    "\n",
    "print(f\"Subclusterização concluída. Coluna '{nome_coluna_subcluster}' adicionada ao DataFrame 'sub_cf.df'.\")\n",
    "display(sub_cf.df[['id', nome_coluna_subcluster, 'texto_documento']])"
   ]
  },
  {
   "cell_type": "markdown",
   "metadata": {},
   "source": [
    "## 11. Resetando o Estado\n",
    "\n",
    "Se quisermos recomeçar a análise no DataFrame original (por exemplo, tentar um K diferente na primeira rodada) sem perder os dados originais, podemos usar `resetar`.\n",
    "\n",
    "Isso remove todas as colunas de cluster (`cluster_*`, `subcluster_*`) e a coluna de classificação (`classificacao`) da instância original `cf`."
   ]
  },
  {
   "cell_type": "code",
   "execution_count": null,
   "metadata": {},
   "outputs": [],
   "source": [
    "print(\"Estado do DataFrame 'cf' ANTES do reset:\")\n",
    "display(cf.df.head())\n",
    "\n",
    "cf.resetar()\n",
    "\n",
    "print(\"\\nEstado do DataFrame 'cf' DEPOIS do reset (colunas de cluster/classificação removidas):\")\n",
    "display(cf.df.head())"
   ]
  },
  {
   "cell_type": "markdown",
   "metadata": {},
   "source": [
    "--- \n",
    "\n",
    "Fim do exemplo detalhado!"
   ]
  }
 ],
 "metadata": {
  "kernelspec": {
   "display_name": "Python 3",
   "language": "python",
   "name": "python3"
  },
  "language_info": {
   "codemirror_mode": {
    "name": "ipython",
    "version": 3
   },
   "file_extension": ".py",
   "mimetype": "text/x-python",
   "name": "python",
   "nbconvert_exporter": "python",
   "pygments_lexer": "ipython3",
   "version": "3.9.7"
  }
 },
 "nbformat": 4,
 "nbformat_minor": 4
}
