{
 "cells": [
  {
   "cell_type": "markdown",
   "metadata": {},
   "source": [
    "# Exemplo Básico de Uso - Cluster Fácil\n",
    "\n",
    "Este notebook demonstra os passos essenciais para usar a biblioteca `cluster-facil`."
   ]
  },
  {
   "cell_type": "markdown",
   "metadata": {},
   "source": [
    "## 1. Instalação\n",
    "\n",
    "Se você ainda não instalou a biblioteca, descomente e execute a célula abaixo. Ela instalará a versão mais recente diretamente do repositório GitHub.\n",
    "\n",
    "**Observação:** Substitua `seu-usuario` pelo nome de usuário correto do proprietário do repositório no GitHub."
   ]
  },
  {
   "cell_type": "code",
   "execution_count": null,
   "metadata": {},
   "outputs": [],
   "source": [
    "# !pip install git+https://github.com/seu-usuario/cluster-facil.git"
   ]
  },
  {
   "cell_type": "markdown",
   "metadata": {},
   "source": [
    "## 2. Importações e Dados de Exemplo\n",
    "\n",
    "Vamos importar o `pandas` para criar nosso DataFrame de exemplo e a classe `ClusterFacil` da nossa biblioteca."
   ]
  },
  {
   "cell_type": "code",
   "execution_count": null,
   "metadata": {},
   "outputs": [],
   "source": [
    "import pandas as pd\n",
    "from cluster_facil import ClusterFacil\n",
    "\n",
    "# Criando um DataFrame de exemplo simples com textos\n",
    "data = {'id': [1, 2, 3, 4, 5, 6, 7, 8],\n",
    "        'texto_documento': [\n",
    "            \"O juiz determinou o pagamento da indenização.\",\n",
    "            \"Recurso de apelação foi interposto pela defesa.\",\n",
    "            \"A sentença julgou procedente o pedido do autor.\",\n",
    "            \"A corte negou provimento ao recurso especial.\",\n",
    "            \"Processo arquivado por falta de movimentação.\",\n",
    "            \"Acordo homologado entre as partes.\",\n",
    "            \"Indenização por danos morais foi concedida.\",\n",
    "            \"Extinção do processo sem resolução de mérito.\"\n",
    "        ]}\n",
    "df_exemplo = pd.DataFrame(data)\n",
    "\n",
    "print(\"DataFrame de Exemplo:\")\n",
    "display(df_exemplo)"
   ]
  },
  {
   "cell_type": "markdown",
   "metadata": {},
   "source": [
    "## 3. Inicializando o ClusterFacil\n",
    "\n",
    "Criamos uma instância da classe, passando nosso DataFrame."
   ]
  },
  {
   "cell_type": "code",
   "execution_count": null,
   "metadata": {},
   "outputs": [],
   "source": [
    "cf = ClusterFacil(df_exemplo)"
   ]
  },
  {
   "cell_type": "markdown",
   "metadata": {},
   "source": [
    "## 4. Preparando os Dados e Analisando o Cotovelo\n",
    "\n",
    "Agora, chamamos o método `preparar`. Ele fará o pré-processamento, calculará o TF-IDF e **exibirá o gráfico do método do cotovelo**.\n",
    "\n",
    "Precisamos informar:\n",
    "*   `coluna_textos`: O nome da coluna que contém os textos a serem clusterizados.\n",
    "*   `limite_k`: O número máximo de clusters (K) que queremos testar no método do cotovelo."
   ]
  },
  {
   "cell_type": "code",
   "execution_count": null,
   "metadata": {
    "tags": []
   },
   "outputs": [],
   "source": [
    "print(\"Iniciando a preparação e geração do gráfico do cotovelo...\")\n",
    "cf.preparar(coluna_textos='texto_documento', limite_k=5)\n",
    "print(\"Preparação concluída. Analise o gráfico acima para escolher o número de clusters (K).\")"
   ]
  },
  {
   "cell_type": "markdown",
   "metadata": {},
   "source": [
    "## 5. Finalizando a Clusterização\n",
    "\n",
    "Após analisar o gráfico do cotovelo (o ponto onde a curva \"dobra\"), escolhemos o número de clusters (K) que parece mais apropriado.\n",
    "\n",
    "Chamamos o método `finaliza` informando:\n",
    "*   `num_clusters`: O valor de K escolhido.\n",
    "*   `prefixo_saida` (opcional): Um prefixo para os nomes dos arquivos CSV e Excel que serão gerados com os resultados.\n",
    "\n",
    "Para este exemplo, vamos supor que, após analisar o gráfico, decidimos usar **K=3**."
   ]
  },
  {
   "cell_type": "code",
   "execution_count": null,
   "metadata": {},
   "outputs": [],
   "source": [
    "k_escolhido = 3\n",
    "prefixo = 'exemplo_notebook'\n",
    "\n",
    "print(f\"Finalizando a clusterização com K={k_escolhido}...\")\n",
    "cf.finaliza(num_clusters=k_escolhido, prefixo_saida=prefixo)\n",
    "\n",
    "print(f\"\\nClusterização finalizada! Verifique os arquivos gerados:\")\n",
    "print(f\"- {prefixo}_clusters_1.csv\")\n",
    "print(f\"- {prefixo}_amostras_por_cluster_1.xlsx\")"
   ]
  },
  {
   "cell_type": "markdown",
   "metadata": {},
   "source": [
    "## 6. Verificando o Resultado\n",
    "\n",
    "O DataFrame original dentro do objeto `cf` agora possui uma nova coluna (`cluster_1`) com o ID do cluster atribuído a cada documento."
   ]
  },
  {
   "cell_type": "code",
   "execution_count": null,
   "metadata": {},
   "outputs": [],
   "source": [
    "print(\"DataFrame com a coluna de cluster:\")\n",
    "display(cf.df)"
   ]
  },
  {
   "cell_type": "markdown",
   "metadata": {},
   "source": [
    "--- \n",
    "Fim do exemplo básico!"
   ]
  }
 ],
 "metadata": {
  "kernelspec": {
   "display_name": "Python 3",
   "language": "python",
   "name": "python3"
  },
  "language_info": {
   "codemirror_mode": {
    "name": "ipython",
    "version": 3
   },
   "file_extension": ".py",
   "mimetype": "text/x-python",
   "name": "python",
   "nbconvert_exporter": "python",
   "pygments_lexer": "ipython3",
   "version": "3.10"
  }
 },
 "nbformat": 4,
 "nbformat_minor": 4
}
