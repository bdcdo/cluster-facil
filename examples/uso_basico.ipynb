{
 "cells": [
  {
   "cell_type": "markdown",
   "metadata": {},
   "source": [
    "# Exemplo Detalhado de Uso - Cluster Fácil\n",
    "\n",
    "Este notebook demonstra os passos essenciais e funcionalidades adicionais da biblioteca `cluster-facil`."
   ]
  },
  {
   "cell_type": "markdown",
   "metadata": {},
   "source": [
    "## 1. Instalação\n",
    "\n",
    "Se você ainda não instalou a biblioteca, descomente e execute a célula abaixo. Ela instalará a versão mais recente diretamente do repositório GitHub."
   ]
  },
  {
   "cell_type": "code",
   "execution_count": 1,
   "metadata": {},
   "outputs": [],
   "source": [
    "# !pip install git+https://github.com/bdcdo/cluster-facil.git\n",
    "# \n",
    "# # Instale também dependências opcionais se for usar:\n",
    "# !pip install matplotlib openpyxl pyarrow"
   ]
  },
  {
   "cell_type": "markdown",
   "metadata": {},
   "source": [
    "## 2. Importações e Dados de Exemplo\n",
    "\n",
    "Vamos importar o `pandas` para criar nosso DataFrame de exemplo e a classe `ClusterFacil` da nossa biblioteca."
   ]
  },
  {
   "cell_type": "code",
   "execution_count": 2,
   "metadata": {},
   "outputs": [],
   "source": [
    "import pandas as pd\n",
    "from cluster_facil import ClusterFacil\n",
    "from dotenv import load_dotenv\n",
    "load_dotenv(override=True)  # Isso carrega as variáveis do .env para o ambiente\n",
    "\n",
    "# Criando um DataFrame de exemplo simples com textos\n",
    "data = {'id': [1, 2, 3, 4, 5, 6, 7, 8],\n",
    "        'texto_documento': [\n",
    "            \"O juiz determinou o pagamento da indenização.\",\n",
    "            \"Recurso de apelação foi interposto pela defesa.\",\n",
    "            \"A sentença julgou procedente o pedido do autor.\",\n",
    "            \"A corte negou provimento ao recurso especial.\",\n",
    "            \"Processo arquivado por falta de movimentação.\",\n",
    "            \"Acordo homologado entre as partes.\",\n",
    "            \"Indenização por danos morais foi concedida.\",\n",
    "            \"Extinção do processo sem resolução de mérito.\"\n",
    "        ]}"
   ]
  },
  {
   "cell_type": "code",
   "execution_count": 3,
   "metadata": {},
   "outputs": [
    {
     "name": "stdout",
     "output_type": "stream",
     "text": [
      "DataFrame de Exemplo:\n"
     ]
    },
    {
     "data": {
      "text/html": [
       "<div>\n",
       "<style scoped>\n",
       "    .dataframe tbody tr th:only-of-type {\n",
       "        vertical-align: middle;\n",
       "    }\n",
       "\n",
       "    .dataframe tbody tr th {\n",
       "        vertical-align: top;\n",
       "    }\n",
       "\n",
       "    .dataframe thead th {\n",
       "        text-align: right;\n",
       "    }\n",
       "</style>\n",
       "<table border=\"1\" class=\"dataframe\">\n",
       "  <thead>\n",
       "    <tr style=\"text-align: right;\">\n",
       "      <th></th>\n",
       "      <th>id</th>\n",
       "      <th>texto_documento</th>\n",
       "    </tr>\n",
       "  </thead>\n",
       "  <tbody>\n",
       "    <tr>\n",
       "      <th>0</th>\n",
       "      <td>1</td>\n",
       "      <td>O juiz determinou o pagamento da indenização.</td>\n",
       "    </tr>\n",
       "    <tr>\n",
       "      <th>1</th>\n",
       "      <td>2</td>\n",
       "      <td>Recurso de apelação foi interposto pela defesa.</td>\n",
       "    </tr>\n",
       "    <tr>\n",
       "      <th>2</th>\n",
       "      <td>3</td>\n",
       "      <td>A sentença julgou procedente o pedido do autor.</td>\n",
       "    </tr>\n",
       "    <tr>\n",
       "      <th>3</th>\n",
       "      <td>4</td>\n",
       "      <td>A corte negou provimento ao recurso especial.</td>\n",
       "    </tr>\n",
       "    <tr>\n",
       "      <th>4</th>\n",
       "      <td>5</td>\n",
       "      <td>Processo arquivado por falta de movimentação.</td>\n",
       "    </tr>\n",
       "    <tr>\n",
       "      <th>5</th>\n",
       "      <td>6</td>\n",
       "      <td>Acordo homologado entre as partes.</td>\n",
       "    </tr>\n",
       "    <tr>\n",
       "      <th>6</th>\n",
       "      <td>7</td>\n",
       "      <td>Indenização por danos morais foi concedida.</td>\n",
       "    </tr>\n",
       "    <tr>\n",
       "      <th>7</th>\n",
       "      <td>8</td>\n",
       "      <td>Extinção do processo sem resolução de mérito.</td>\n",
       "    </tr>\n",
       "  </tbody>\n",
       "</table>\n",
       "</div>"
      ],
      "text/plain": [
       "   id                                  texto_documento\n",
       "0   1    O juiz determinou o pagamento da indenização.\n",
       "1   2  Recurso de apelação foi interposto pela defesa.\n",
       "2   3  A sentença julgou procedente o pedido do autor.\n",
       "3   4    A corte negou provimento ao recurso especial.\n",
       "4   5    Processo arquivado por falta de movimentação.\n",
       "5   6               Acordo homologado entre as partes.\n",
       "6   7      Indenização por danos morais foi concedida.\n",
       "7   8    Extinção do processo sem resolução de mérito."
      ]
     },
     "metadata": {},
     "output_type": "display_data"
    }
   ],
   "source": [
    "df_exemplo = pd.DataFrame(data)\n",
    "\n",
    "print(\"DataFrame de Exemplo:\")\n",
    "display(df_exemplo)"
   ]
  },
  {
   "cell_type": "markdown",
   "metadata": {},
   "source": [
    "## 3. Inicializando o ClusterFacil\n",
    "\n",
    "Criamos uma instância da classe, passando nosso DataFrame.\n",
    "Usamos `random_state=42` para garantir que os resultados da clusterização sejam reprodutíveis."
   ]
  },
  {
   "cell_type": "code",
   "execution_count": 4,
   "metadata": {},
   "outputs": [
    {
     "name": "stderr",
     "output_type": "stream",
     "text": [
      "2025-04-21 22:59:39,165 - INFO - ClusterFacil iniciado com um DataFrame já existente.\n",
      "2025-04-21 22:59:39,169 - INFO - Próxima rodada de clusterização definida como: 1\n"
     ]
    }
   ],
   "source": [
    "cf = ClusterFacil(df_exemplo, random_state=42)"
   ]
  },
  {
   "cell_type": "markdown",
   "metadata": {},
   "source": [
    "## 4. Preparando os Dados e Analisando o Cotovelo\n",
    "\n",
    "Chamamos o método `preparar`. Ele fará o pré-processamento (TF-IDF) e **exibirá o gráfico do método do cotovelo** (se `matplotlib` estiver instalado e `plotar_cotovelo=True`, que é o padrão).\n",
    "\n",
    "Precisamos informar:\n",
    "*   `coluna_textos`: O nome da coluna que contém os textos.\n",
    "*   `limite_k` (opcional): O número máximo de clusters (K) a testar no método do cotovelo (padrão é 10)."
   ]
  },
  {
   "cell_type": "code",
   "execution_count": 5,
   "metadata": {},
   "outputs": [
    {
     "name": "stderr",
     "output_type": "stream",
     "text": [
      "2025-04-21 22:59:39,175 - INFO - Iniciando preparação dos textos para agrupamento (rodada 1). Coluna de texto: 'texto_documento', limite de grupos para teste: 5.\n",
      "2025-04-21 22:59:39,175 - INFO - Analisando características de 8 textos (TF-IDF)...\n",
      "2025-04-21 22:59:39,182 - INFO - Análise TF-IDF concluída. 8 textos processados, 30 características (palavras/termos) identificadas.\n",
      "2025-04-21 22:59:39,182 - INFO - Avaliando diferentes números de grupos (método do cotovelo)...\n",
      "2025-04-21 22:59:39,183 - INFO - Calculando opções de agrupamento (inércias) para K de 1 a 5...\n"
     ]
    },
    {
     "name": "stdout",
     "output_type": "stream",
     "text": [
      "Iniciando a preparação e geração do gráfico do cotovelo...\n"
     ]
    },
    {
     "name": "stderr",
     "output_type": "stream",
     "text": [
      "Avaliando número de grupos (K): 100%|██████████| 5/5 [00:00<00:00, 20.80K/s]\n",
      "2025-04-21 22:59:39,425 - INFO - Cálculo das opções de agrupamento (inércias) concluído.\n",
      "2025-04-21 22:59:39,427 - WARNING - O gráfico do cotovelo pode estar incompleto devido a erros no cálculo de alguns valores de K (exibindo 4 pontos).\n",
      "2025-04-21 22:59:39,865 - INFO - Gerando gráfico do cotovelo para visualização...\n",
      "2025-04-21 22:59:39,885 - INFO - Exibindo gráfico do cotovelo...\n"
     ]
    },
    {
     "data": {
      "image/png": "[encoded data removed]",
      "text/plain": [
       "<Figure size 1000x600 with 1 Axes>"
      ]
     },
     "metadata": {},
     "output_type": "display_data"
    },
    {
     "name": "stderr",
     "output_type": "stream",
     "text": [
      "2025-04-21 22:59:39,968 - INFO - Preparação da rodada 1 concluída. Analise o gráfico do cotovelo (baseado em 8 textos) para escolher o número de grupos (K).\n"
     ]
    },
    {
     "name": "stdout",
     "output_type": "stream",
     "text": [
      "Preparação concluída.\n"
     ]
    }
   ],
   "source": [
    "print(\"Iniciando a preparação e geração do gráfico do cotovelo...\")\n",
    "cf.preparar(coluna_textos='texto_documento', limite_k=5)\n",
    "print(\"Preparação concluída.\")"
   ]
  },
  {
   "cell_type": "markdown",
   "metadata": {},
   "source": [
    "### Analisando o Gráfico do Cotovelo\n",
    "\n",
    "Olhe o gráfico gerado acima. O eixo Y mostra a inércia (WCSS - Within-Cluster Sum of Squares) e o eixo X mostra o número de clusters (K).\n",
    "\n",
    "Procure por um \"cotovelo\" (elbow) na curva: um ponto onde a taxa de diminuição da inércia desacelera significativamente. Adicionar mais clusters depois desse ponto geralmente não traz um ganho tão grande na separação dos grupos.\n",
    "\n",
    "**Neste exemplo, o cotovelo parece estar em K=3.**"
   ]
  },
  {
   "cell_type": "markdown",
   "metadata": {},
   "source": [
    "## 5. Clusterizando\n",
    "\n",
    "Agora que escolhemos nosso K (K=3), vamos executar a clusterização com o método `clusterizar`."
   ]
  },
  {
   "cell_type": "code",
   "execution_count": 6,
   "metadata": {},
   "outputs": [
    {
     "name": "stderr",
     "output_type": "stream",
     "text": [
      "2025-04-21 22:59:39,975 - INFO - Iniciando agrupamento (clusterização) em 3 grupos para a rodada 1 (prefixo: 'cluster_').\n",
      "2025-04-21 22:59:39,975 - INFO - Agrupando 8 textos em 3 grupos (K-Means)...\n",
      "2025-04-21 22:59:39,975 - INFO - Agrupamento K-Means concluído. 8 textos foram atribuídos a grupos.\n",
      "2025-04-21 22:59:39,983 - INFO - Coluna de resultados 'cluster_1' adicionada/atualizada.\n",
      "2025-04-21 22:59:39,983 - INFO - Agrupamento da rodada 1 (prefixo 'cluster_') concluído com sucesso. Resultados na coluna 'cluster_1'.\n"
     ]
    },
    {
     "name": "stdout",
     "output_type": "stream",
     "text": [
      "Executando a clusterização com K=3...\n",
      "Clusterização concluída. Coluna 'cluster_1' adicionada ao DataFrame.\n"
     ]
    }
   ],
   "source": [
    "k_escolhido = 3\n",
    "print(f\"Executando a clusterização com K={k_escolhido}...\")\n",
    "nome_coluna_cluster = cf.clusterizar(num_clusters=k_escolhido)\n",
    "print(f\"Clusterização concluída. Coluna '{nome_coluna_cluster}' adicionada ao DataFrame.\")"
   ]
  },
  {
   "cell_type": "markdown",
   "metadata": {},
   "source": [
    "## 6. Verificando o Resultado da Clusterização\n",
    "\n",
    "O DataFrame original dentro do objeto `cf` agora possui a nova coluna (ex: `cluster_1`) com o ID do cluster atribuído a cada documento."
   ]
  },
  {
   "cell_type": "code",
   "execution_count": 7,
   "metadata": {},
   "outputs": [
    {
     "name": "stdout",
     "output_type": "stream",
     "text": [
      "DataFrame com a coluna de cluster:\n"
     ]
    },
    {
     "data": {
      "text/html": [
       "<div>\n",
       "<style scoped>\n",
       "    .dataframe tbody tr th:only-of-type {\n",
       "        vertical-align: middle;\n",
       "    }\n",
       "\n",
       "    .dataframe tbody tr th {\n",
       "        vertical-align: top;\n",
       "    }\n",
       "\n",
       "    .dataframe thead th {\n",
       "        text-align: right;\n",
       "    }\n",
       "</style>\n",
       "<table border=\"1\" class=\"dataframe\">\n",
       "  <thead>\n",
       "    <tr style=\"text-align: right;\">\n",
       "      <th></th>\n",
       "      <th>id</th>\n",
       "      <th>cluster_1</th>\n",
       "      <th>texto_documento</th>\n",
       "    </tr>\n",
       "  </thead>\n",
       "  <tbody>\n",
       "    <tr>\n",
       "      <th>0</th>\n",
       "      <td>1</td>\n",
       "      <td>2</td>\n",
       "      <td>O juiz determinou o pagamento da indenização.</td>\n",
       "    </tr>\n",
       "    <tr>\n",
       "      <th>1</th>\n",
       "      <td>2</td>\n",
       "      <td>2</td>\n",
       "      <td>Recurso de apelação foi interposto pela defesa.</td>\n",
       "    </tr>\n",
       "    <tr>\n",
       "      <th>2</th>\n",
       "      <td>3</td>\n",
       "      <td>0</td>\n",
       "      <td>A sentença julgou procedente o pedido do autor.</td>\n",
       "    </tr>\n",
       "    <tr>\n",
       "      <th>3</th>\n",
       "      <td>4</td>\n",
       "      <td>2</td>\n",
       "      <td>A corte negou provimento ao recurso especial.</td>\n",
       "    </tr>\n",
       "    <tr>\n",
       "      <th>4</th>\n",
       "      <td>5</td>\n",
       "      <td>1</td>\n",
       "      <td>Processo arquivado por falta de movimentação.</td>\n",
       "    </tr>\n",
       "    <tr>\n",
       "      <th>5</th>\n",
       "      <td>6</td>\n",
       "      <td>2</td>\n",
       "      <td>Acordo homologado entre as partes.</td>\n",
       "    </tr>\n",
       "    <tr>\n",
       "      <th>6</th>\n",
       "      <td>7</td>\n",
       "      <td>2</td>\n",
       "      <td>Indenização por danos morais foi concedida.</td>\n",
       "    </tr>\n",
       "    <tr>\n",
       "      <th>7</th>\n",
       "      <td>8</td>\n",
       "      <td>1</td>\n",
       "      <td>Extinção do processo sem resolução de mérito.</td>\n",
       "    </tr>\n",
       "  </tbody>\n",
       "</table>\n",
       "</div>"
      ],
      "text/plain": [
       "   id  cluster_1                                  texto_documento\n",
       "0   1          2    O juiz determinou o pagamento da indenização.\n",
       "1   2          2  Recurso de apelação foi interposto pela defesa.\n",
       "2   3          0  A sentença julgou procedente o pedido do autor.\n",
       "3   4          2    A corte negou provimento ao recurso especial.\n",
       "4   5          1    Processo arquivado por falta de movimentação.\n",
       "5   6          2               Acordo homologado entre as partes.\n",
       "6   7          2      Indenização por danos morais foi concedida.\n",
       "7   8          1    Extinção do processo sem resolução de mérito."
      ]
     },
     "metadata": {},
     "output_type": "display_data"
    }
   ],
   "source": [
    "print(\"DataFrame com a coluna de cluster:\")\n",
    "display(cf.df[['id', nome_coluna_cluster, 'texto_documento']])"
   ]
  },
  {
   "cell_type": "markdown",
   "metadata": {},
   "source": [
    "## 7. Salvando os Resultados\n",
    "\n",
    "Podemos salvar o DataFrame completo e/ou amostras de cada cluster usando o método `salvar`."
   ]
  },
  {
   "cell_type": "code",
   "execution_count": 8,
   "metadata": {},
   "outputs": [
    {
     "name": "stderr",
     "output_type": "stream",
     "text": [
      "2025-04-21 22:59:40,007 - INFO - Iniciando processo para salvar resultados (Opção: 'ambos', Prefixo: 'cluster_')...\n",
      "2025-04-21 22:59:40,010 - INFO - Usando caminho padrão para o arquivo completo: .\\resultados_cluster_cluster_rodada1.csv\n"
     ]
    },
    {
     "name": "stdout",
     "output_type": "stream",
     "text": [
      "Salvando os resultados...\n"
     ]
    },
    {
     "name": "stderr",
     "output_type": "stream",
     "text": [
      "2025-04-21 22:59:40,395 - INFO - Usando caminho padrão para o arquivo de amostras: .\\resultados_cluster_cluster_amostras_rodada1.xlsx\n",
      "2025-04-21 22:59:40,395 - INFO - Salvando dados em 'resultados_cluster_cluster_rodada1.csv' (Formato: csv)...\n",
      "2025-04-21 22:59:40,399 - INFO - Dados salvos com sucesso em: 'c:\\Users\\julio\\OneDrive\\Documentos\\insper\\cluster-facil\\examples\\resultados_cluster_cluster_rodada1.csv'.\n",
      "2025-04-21 22:59:40,400 - INFO - Gerando e salvando arquivo de exemplos (até 10 por grupo) em 'resultados_cluster_cluster_amostras_rodada1.xlsx' (Formato: xlsx)...\n",
      "2025-04-21 22:59:40,402 - INFO - Salvando dados em 'resultados_cluster_cluster_amostras_rodada1.xlsx' (Formato: xlsx)...\n",
      "2025-04-21 22:59:40,415 - INFO - Dados salvos com sucesso em: 'c:\\Users\\julio\\OneDrive\\Documentos\\insper\\cluster-facil\\examples\\resultados_cluster_cluster_amostras_rodada1.xlsx'.\n",
      "2025-04-21 22:59:40,417 - INFO - Processo de salvamento concluído. Status: {'tudo_salvo': True, 'caminho_tudo': 'c:\\\\Users\\\\julio\\\\OneDrive\\\\Documentos\\\\insper\\\\cluster-facil\\\\examples\\\\resultados_cluster_cluster_rodada1.csv', 'amostras_salvas': True, 'caminho_amostras': 'c:\\\\Users\\\\julio\\\\OneDrive\\\\Documentos\\\\insper\\\\cluster-facil\\\\examples\\\\resultados_cluster_cluster_amostras_rodada1.xlsx'}\n"
     ]
    },
    {
     "name": "stdout",
     "output_type": "stream",
     "text": [
      "\n",
      "Status do salvamento:\n",
      "{'tudo_salvo': True, 'caminho_tudo': 'c:\\\\Users\\\\julio\\\\OneDrive\\\\Documentos\\\\insper\\\\cluster-facil\\\\examples\\\\resultados_cluster_cluster_rodada1.csv', 'amostras_salvas': True, 'caminho_amostras': 'c:\\\\Users\\\\julio\\\\OneDrive\\\\Documentos\\\\insper\\\\cluster-facil\\\\examples\\\\resultados_cluster_cluster_amostras_rodada1.xlsx'}\n",
      "- DataFrame completo salvo em: c:\\Users\\julio\\OneDrive\\Documentos\\insper\\cluster-facil\\examples\\resultados_cluster_cluster_rodada1.csv\n",
      "- Amostras salvas em: c:\\Users\\julio\\OneDrive\\Documentos\\insper\\cluster-facil\\examples\\resultados_cluster_cluster_amostras_rodada1.xlsx\n"
     ]
    }
   ],
   "source": [
    "print(\"Salvando os resultados...\")\n",
    "status_salvar = cf.salvar(\n",
    "    o_que_salvar='ambos',      # Salva o DF completo e as amostras\n",
    "    formato_tudo='csv',        # Salva o DF completo como CSV\n",
    "    formato_amostras='xlsx',   # Salva as amostras como Excel (requer openpyxl)\n",
    "    # caminho_tudo='output/meu_df_completo.csv', # Opcional: caminho específico\n",
    "    # caminho_amostras='output/minhas_amostras.xlsx', # Opcional: caminho específico\n",
    "    # diretorio_saida='output/' # Opcional: diretório para nomes padrão\n",
    ")\n",
    "\n",
    "print(\"\\nStatus do salvamento:\")\n",
    "print(status_salvar)\n",
    "\n",
    "if status_salvar.get('tudo_salvo'):\n",
    "    print(f\"- DataFrame completo salvo em: {status_salvar.get('caminho_tudo')}\")\n",
    "if status_salvar.get('amostras_salvas'):\n",
    "    print(f\"- Amostras salvas em: {status_salvar.get('caminho_amostras')}\")"
   ]
  },
  {
   "cell_type": "markdown",
   "metadata": {},
   "source": [
    "## 8. Classificando Clusters\n",
    "\n",
    "Após analisar as amostras ou o DataFrame completo, podemos atribuir rótulos (classificações) aos clusters usando o método `classificar`.\n",
    "\n",
    "Isso cria/atualiza a coluna definida em `nome_coluna_classificacao` (padrão: 'classificacao')."
   ]
  },
  {
   "cell_type": "code",
   "execution_count": 9,
   "metadata": {},
   "outputs": [
    {
     "name": "stderr",
     "output_type": "stream",
     "text": [
      "2025-04-21 22:59:40,425 - INFO - Iniciando atribuição da classificação 'Procedente/Indenização' para o(s) grupo(s) [0, 2] da última rodada.\n",
      "2025-04-21 22:59:40,427 - INFO - Coluna de classificação 'classificacao' não encontrada. Criando coluna para futuras classificações.\n",
      "2025-04-21 22:59:40,427 - INFO - Aplicando classificação 'Procedente/Indenização' a 6 texto(s) na coluna 'classificacao' correspondente(s) ao(s) grupo(s) [0, 2] da coluna 'cluster_1'.\n",
      "2025-04-21 22:59:40,427 - INFO - Atribuição de classificação concluída.\n",
      "2025-04-21 22:59:40,427 - INFO - Iniciando atribuição da classificação 'Recurso/Extinção' para o(s) grupo(s) 1 da última rodada.\n",
      "2025-04-21 22:59:40,436 - INFO - Aplicando classificação 'Recurso/Extinção' a 2 texto(s) na coluna 'classificacao' correspondente(s) ao(s) grupo(s) [1] da coluna 'cluster_1'.\n",
      "2025-04-21 22:59:40,437 - INFO - Atribuição de classificação concluída.\n"
     ]
    },
    {
     "name": "stdout",
     "output_type": "stream",
     "text": [
      "DataFrame com a coluna de classificação:\n"
     ]
    },
    {
     "data": {
      "text/html": [
       "<div>\n",
       "<style scoped>\n",
       "    .dataframe tbody tr th:only-of-type {\n",
       "        vertical-align: middle;\n",
       "    }\n",
       "\n",
       "    .dataframe tbody tr th {\n",
       "        vertical-align: top;\n",
       "    }\n",
       "\n",
       "    .dataframe thead th {\n",
       "        text-align: right;\n",
       "    }\n",
       "</style>\n",
       "<table border=\"1\" class=\"dataframe\">\n",
       "  <thead>\n",
       "    <tr style=\"text-align: right;\">\n",
       "      <th></th>\n",
       "      <th>id</th>\n",
       "      <th>cluster_1</th>\n",
       "      <th>classificacao</th>\n",
       "      <th>texto_documento</th>\n",
       "    </tr>\n",
       "  </thead>\n",
       "  <tbody>\n",
       "    <tr>\n",
       "      <th>0</th>\n",
       "      <td>1</td>\n",
       "      <td>2</td>\n",
       "      <td>Procedente/Indenização</td>\n",
       "      <td>O juiz determinou o pagamento da indenização.</td>\n",
       "    </tr>\n",
       "    <tr>\n",
       "      <th>1</th>\n",
       "      <td>2</td>\n",
       "      <td>2</td>\n",
       "      <td>Procedente/Indenização</td>\n",
       "      <td>Recurso de apelação foi interposto pela defesa.</td>\n",
       "    </tr>\n",
       "    <tr>\n",
       "      <th>2</th>\n",
       "      <td>3</td>\n",
       "      <td>0</td>\n",
       "      <td>Procedente/Indenização</td>\n",
       "      <td>A sentença julgou procedente o pedido do autor.</td>\n",
       "    </tr>\n",
       "    <tr>\n",
       "      <th>3</th>\n",
       "      <td>4</td>\n",
       "      <td>2</td>\n",
       "      <td>Procedente/Indenização</td>\n",
       "      <td>A corte negou provimento ao recurso especial.</td>\n",
       "    </tr>\n",
       "    <tr>\n",
       "      <th>4</th>\n",
       "      <td>5</td>\n",
       "      <td>1</td>\n",
       "      <td>Recurso/Extinção</td>\n",
       "      <td>Processo arquivado por falta de movimentação.</td>\n",
       "    </tr>\n",
       "    <tr>\n",
       "      <th>5</th>\n",
       "      <td>6</td>\n",
       "      <td>2</td>\n",
       "      <td>Procedente/Indenização</td>\n",
       "      <td>Acordo homologado entre as partes.</td>\n",
       "    </tr>\n",
       "    <tr>\n",
       "      <th>6</th>\n",
       "      <td>7</td>\n",
       "      <td>2</td>\n",
       "      <td>Procedente/Indenização</td>\n",
       "      <td>Indenização por danos morais foi concedida.</td>\n",
       "    </tr>\n",
       "    <tr>\n",
       "      <th>7</th>\n",
       "      <td>8</td>\n",
       "      <td>1</td>\n",
       "      <td>Recurso/Extinção</td>\n",
       "      <td>Extinção do processo sem resolução de mérito.</td>\n",
       "    </tr>\n",
       "  </tbody>\n",
       "</table>\n",
       "</div>"
      ],
      "text/plain": [
       "   id  cluster_1           classificacao  \\\n",
       "0   1          2  Procedente/Indenização   \n",
       "1   2          2  Procedente/Indenização   \n",
       "2   3          0  Procedente/Indenização   \n",
       "3   4          2  Procedente/Indenização   \n",
       "4   5          1        Recurso/Extinção   \n",
       "5   6          2  Procedente/Indenização   \n",
       "6   7          2  Procedente/Indenização   \n",
       "7   8          1        Recurso/Extinção   \n",
       "\n",
       "                                   texto_documento  \n",
       "0    O juiz determinou o pagamento da indenização.  \n",
       "1  Recurso de apelação foi interposto pela defesa.  \n",
       "2  A sentença julgou procedente o pedido do autor.  \n",
       "3    A corte negou provimento ao recurso especial.  \n",
       "4    Processo arquivado por falta de movimentação.  \n",
       "5               Acordo homologado entre as partes.  \n",
       "6      Indenização por danos morais foi concedida.  \n",
       "7    Extinção do processo sem resolução de mérito.  "
      ]
     },
     "metadata": {},
     "output_type": "display_data"
    }
   ],
   "source": [
    "# Supondo que, após análise, o cluster 0 e 2 são 'Procedente/Indenização'\n",
    "# e o cluster 1 é 'Recurso/Extinção'\n",
    "cf.classificar(cluster_ids=[0, 2], classificacao='Procedente/Indenização')\n",
    "cf.classificar(cluster_ids=1, classificacao='Recurso/Extinção')\n",
    "\n",
    "print(\"DataFrame com a coluna de classificação:\")\n",
    "# Exibindo colunas relevantes\n",
    "display(cf.df[['id', nome_coluna_cluster, cf.nome_coluna_classificacao, 'texto_documento']])"
   ]
  },
  {
   "cell_type": "markdown",
   "metadata": {},
   "source": [
    "Também é possível anotar um cluster automaticamente com LLMs:"
   ]
  },
  {
   "cell_type": "code",
   "execution_count": null,
   "metadata": {},
   "outputs": [
    {
     "name": "stderr",
     "output_type": "stream",
     "text": [
      "2025-04-21 23:01:45,683 - INFO - HTTP Request: POST https://api.openai.com/v1/responses \"HTTP/1.1 200 OK\"\n",
      "2025-04-21 23:01:47,365 - INFO - HTTP Request: POST https://api.openai.com/v1/responses \"HTTP/1.1 200 OK\"\n",
      "2025-04-21 23:01:48,702 - INFO - HTTP Request: POST https://api.openai.com/v1/responses \"HTTP/1.1 200 OK\"\n",
      "2025-04-21 23:01:50,940 - INFO - HTTP Request: POST https://api.openai.com/v1/responses \"HTTP/1.1 200 OK\"\n"
     ]
    },
    {
     "name": "stdout",
     "output_type": "stream",
     "text": [
      "{2: 'Decisões e Procedimentos Judiciais', 0: 'Decisões Favoráveis ao Autor', 1: 'Arquivamento e Extinção de Processos'}\n"
     ]
    },
    {
     "data": {
      "text/html": [
       "<div>\n",
       "<style scoped>\n",
       "    .dataframe tbody tr th:only-of-type {\n",
       "        vertical-align: middle;\n",
       "    }\n",
       "\n",
       "    .dataframe tbody tr th {\n",
       "        vertical-align: top;\n",
       "    }\n",
       "\n",
       "    .dataframe thead th {\n",
       "        text-align: right;\n",
       "    }\n",
       "</style>\n",
       "<table border=\"1\" class=\"dataframe\">\n",
       "  <thead>\n",
       "    <tr style=\"text-align: right;\">\n",
       "      <th></th>\n",
       "      <th>id</th>\n",
       "      <th>texto_documento</th>\n",
       "      <th>cluster_1</th>\n",
       "      <th>classificacao</th>\n",
       "      <th>cluster_1_classificacao</th>\n",
       "    </tr>\n",
       "  </thead>\n",
       "  <tbody>\n",
       "    <tr>\n",
       "      <th>0</th>\n",
       "      <td>1</td>\n",
       "      <td>O juiz determinou o pagamento da indenização.</td>\n",
       "      <td>2</td>\n",
       "      <td>Procedente/Indenização</td>\n",
       "      <td>Decisões e Procedimentos Judiciais</td>\n",
       "    </tr>\n",
       "    <tr>\n",
       "      <th>1</th>\n",
       "      <td>2</td>\n",
       "      <td>Recurso de apelação foi interposto pela defesa.</td>\n",
       "      <td>2</td>\n",
       "      <td>Procedente/Indenização</td>\n",
       "      <td>Decisões e Procedimentos Judiciais</td>\n",
       "    </tr>\n",
       "    <tr>\n",
       "      <th>2</th>\n",
       "      <td>3</td>\n",
       "      <td>A sentença julgou procedente o pedido do autor.</td>\n",
       "      <td>0</td>\n",
       "      <td>Procedente/Indenização</td>\n",
       "      <td>Decisões Favoráveis ao Autor</td>\n",
       "    </tr>\n",
       "    <tr>\n",
       "      <th>3</th>\n",
       "      <td>4</td>\n",
       "      <td>A corte negou provimento ao recurso especial.</td>\n",
       "      <td>2</td>\n",
       "      <td>Procedente/Indenização</td>\n",
       "      <td>Decisões e Procedimentos Judiciais</td>\n",
       "    </tr>\n",
       "    <tr>\n",
       "      <th>4</th>\n",
       "      <td>5</td>\n",
       "      <td>Processo arquivado por falta de movimentação.</td>\n",
       "      <td>1</td>\n",
       "      <td>Recurso/Extinção</td>\n",
       "      <td>Arquivamento e Extinção de Processos</td>\n",
       "    </tr>\n",
       "    <tr>\n",
       "      <th>5</th>\n",
       "      <td>6</td>\n",
       "      <td>Acordo homologado entre as partes.</td>\n",
       "      <td>2</td>\n",
       "      <td>Procedente/Indenização</td>\n",
       "      <td>Decisões e Procedimentos Judiciais</td>\n",
       "    </tr>\n",
       "    <tr>\n",
       "      <th>6</th>\n",
       "      <td>7</td>\n",
       "      <td>Indenização por danos morais foi concedida.</td>\n",
       "      <td>2</td>\n",
       "      <td>Procedente/Indenização</td>\n",
       "      <td>Decisões e Procedimentos Judiciais</td>\n",
       "    </tr>\n",
       "    <tr>\n",
       "      <th>7</th>\n",
       "      <td>8</td>\n",
       "      <td>Extinção do processo sem resolução de mérito.</td>\n",
       "      <td>1</td>\n",
       "      <td>Recurso/Extinção</td>\n",
       "      <td>Arquivamento e Extinção de Processos</td>\n",
       "    </tr>\n",
       "  </tbody>\n",
       "</table>\n",
       "</div>"
      ],
      "text/plain": [
       "   id                                  texto_documento  cluster_1  \\\n",
       "0   1    O juiz determinou o pagamento da indenização.          2   \n",
       "1   2  Recurso de apelação foi interposto pela defesa.          2   \n",
       "2   3  A sentença julgou procedente o pedido do autor.          0   \n",
       "3   4    A corte negou provimento ao recurso especial.          2   \n",
       "4   5    Processo arquivado por falta de movimentação.          1   \n",
       "5   6               Acordo homologado entre as partes.          2   \n",
       "6   7      Indenização por danos morais foi concedida.          2   \n",
       "7   8    Extinção do processo sem resolução de mérito.          1   \n",
       "\n",
       "            classificacao               cluster_1_classificacao  \n",
       "0  Procedente/Indenização    Decisões e Procedimentos Judiciais  \n",
       "1  Procedente/Indenização    Decisões e Procedimentos Judiciais  \n",
       "2  Procedente/Indenização          Decisões Favoráveis ao Autor  \n",
       "3  Procedente/Indenização    Decisões e Procedimentos Judiciais  \n",
       "4        Recurso/Extinção  Arquivamento e Extinção de Processos  \n",
       "5  Procedente/Indenização    Decisões e Procedimentos Judiciais  \n",
       "6  Procedente/Indenização    Decisões e Procedimentos Judiciais  \n",
       "7        Recurso/Extinção  Arquivamento e Extinção de Processos  "
      ]
     },
     "metadata": {},
     "output_type": "display_data"
    }
   ],
   "source": [
    "# Supondo que cf seja uma instância de ClusterFacil já clusterizada\n",
    "rotulos = cf.auto_label_cluster()\n",
    "print(rotulos)\n",
    "display(cf.df)"
   ]
  },
  {
   "cell_type": "markdown",
   "metadata": {},
   "source": [
    "## 9. Listando e Contando Classificações\n",
    "\n",
    "Podemos ver as classificações únicas e suas contagens."
   ]
  },
  {
   "cell_type": "code",
   "execution_count": 10,
   "metadata": {},
   "outputs": [
    {
     "name": "stderr",
     "output_type": "stream",
     "text": [
      "2025-04-21 21:54:10,595 - INFO - Classificações manuais únicas encontradas: ['Procedente/Indenização', 'Recurso/Extinção']\n",
      "2025-04-21 21:54:10,602 - INFO - Contagem de textos por classificação manual na coluna 'classificacao':\n",
      "classificacao\n",
      "Procedente/Indenização    6\n",
      "Recurso/Extinção          2\n",
      "Name: count, dtype: Int64\n"
     ]
    },
    {
     "name": "stdout",
     "output_type": "stream",
     "text": [
      "Classificações únicas: ['Procedente/Indenização', 'Recurso/Extinção']\n",
      "\n",
      "Contagem por classificação:\n",
      "None\n"
     ]
    }
   ],
   "source": [
    "print(\"Classificações únicas:\", cf.listar_classificacoes())\n",
    "print(\"\\nContagem por classificação:\")\n",
    "print(cf.contar_classificacoes())"
   ]
  },
  {
   "cell_type": "markdown",
   "metadata": {},
   "source": [
    "## 10. Criando um Subcluster\n",
    "\n",
    "Se quisermos analisar mais a fundo um grupo específico (uma classificação), podemos criar um subcluster.\n",
    "O método `subcluster` retorna uma **nova instância** de `ClusterFacil`, contendo apenas os dados da classificação desejada e pronta para um novo ciclo de `preparar` -> `clusterizar`."
   ]
  },
  {
   "cell_type": "code",
   "execution_count": 11,
   "metadata": {},
   "outputs": [
    {
     "name": "stderr",
     "output_type": "stream",
     "text": [
      "2025-04-21 21:54:16,635 - INFO - Criando um novo objeto ClusterFacil para analisar o subcluster da classificação: 'Procedente/Indenização'\n",
      "2025-04-21 21:54:16,636 - INFO - Filtrando dados para criar o subcluster da classificação: 'Procedente/Indenização'\n",
      "2025-04-21 21:54:16,637 - INFO - Subcluster criado com 6 textos correspondentes à classificação 'Procedente/Indenização'.\n",
      "2025-04-21 21:54:16,637 - INFO - Colunas de resultados de agrupamentos anteriores removidas do subcluster: ['cluster_1']\n",
      "2025-04-21 21:54:16,637 - INFO - Coluna de classificação original ('classificacao') renomeada para 'classificacao_origem' no subcluster.\n",
      "2025-04-21 21:54:16,637 - INFO - ClusterFacil iniciado com um DataFrame já existente.\n",
      "2025-04-21 21:54:16,637 - INFO - Próxima rodada de clusterização definida como: 1\n",
      "2025-04-21 21:54:16,637 - INFO - Novo objeto ClusterFacil para o subcluster criado e configurado.\n"
     ]
    },
    {
     "name": "stdout",
     "output_type": "stream",
     "text": [
      "Criando subcluster para 'Procedente/Indenização'...\n",
      "Nova instância 'sub_cf' criada com 6 linhas.\n",
      "DataFrame do subcluster (observe a coluna 'classificacao_origem'):\n"
     ]
    },
    {
     "data": {
      "text/html": [
       "<div>\n",
       "<style scoped>\n",
       "    .dataframe tbody tr th:only-of-type {\n",
       "        vertical-align: middle;\n",
       "    }\n",
       "\n",
       "    .dataframe tbody tr th {\n",
       "        vertical-align: top;\n",
       "    }\n",
       "\n",
       "    .dataframe thead th {\n",
       "        text-align: right;\n",
       "    }\n",
       "</style>\n",
       "<table border=\"1\" class=\"dataframe\">\n",
       "  <thead>\n",
       "    <tr style=\"text-align: right;\">\n",
       "      <th></th>\n",
       "      <th>id</th>\n",
       "      <th>texto_documento</th>\n",
       "      <th>classificacao_origem</th>\n",
       "    </tr>\n",
       "  </thead>\n",
       "  <tbody>\n",
       "    <tr>\n",
       "      <th>0</th>\n",
       "      <td>1</td>\n",
       "      <td>O juiz determinou o pagamento da indenização.</td>\n",
       "      <td>Procedente/Indenização</td>\n",
       "    </tr>\n",
       "    <tr>\n",
       "      <th>1</th>\n",
       "      <td>2</td>\n",
       "      <td>Recurso de apelação foi interposto pela defesa.</td>\n",
       "      <td>Procedente/Indenização</td>\n",
       "    </tr>\n",
       "    <tr>\n",
       "      <th>2</th>\n",
       "      <td>3</td>\n",
       "      <td>A sentença julgou procedente o pedido do autor.</td>\n",
       "      <td>Procedente/Indenização</td>\n",
       "    </tr>\n",
       "    <tr>\n",
       "      <th>3</th>\n",
       "      <td>4</td>\n",
       "      <td>A corte negou provimento ao recurso especial.</td>\n",
       "      <td>Procedente/Indenização</td>\n",
       "    </tr>\n",
       "    <tr>\n",
       "      <th>5</th>\n",
       "      <td>6</td>\n",
       "      <td>Acordo homologado entre as partes.</td>\n",
       "      <td>Procedente/Indenização</td>\n",
       "    </tr>\n",
       "  </tbody>\n",
       "</table>\n",
       "</div>"
      ],
      "text/plain": [
       "   id                                  texto_documento    classificacao_origem\n",
       "0   1    O juiz determinou o pagamento da indenização.  Procedente/Indenização\n",
       "1   2  Recurso de apelação foi interposto pela defesa.  Procedente/Indenização\n",
       "2   3  A sentença julgou procedente o pedido do autor.  Procedente/Indenização\n",
       "3   4    A corte negou provimento ao recurso especial.  Procedente/Indenização\n",
       "5   6               Acordo homologado entre as partes.  Procedente/Indenização"
      ]
     },
     "metadata": {},
     "output_type": "display_data"
    }
   ],
   "source": [
    "classificacao_alvo = 'Procedente/Indenização'\n",
    "print(f\"Criando subcluster para '{classificacao_alvo}'...\")\n",
    "sub_cf = cf.subcluster(classificacao_alvo)\n",
    "\n",
    "print(f\"Nova instância 'sub_cf' criada com {len(sub_cf.df)} linhas.\")\n",
    "print(\"DataFrame do subcluster (observe a coluna 'classificacao_origem'):\")\n",
    "display(sub_cf.df.head())"
   ]
  },
  {
   "cell_type": "markdown",
   "metadata": {},
   "source": [
    "### Clusterizando o Subcluster\n",
    "\n",
    "Agora podemos aplicar o processo novamente, mas apenas nos dados do subcluster."
   ]
  },
  {
   "cell_type": "code",
   "execution_count": 12,
   "metadata": {},
   "outputs": [
    {
     "name": "stderr",
     "output_type": "stream",
     "text": [
      "2025-04-21 21:54:20,544 - INFO - Iniciando preparação dos textos para agrupamento (rodada 1). Coluna de texto: 'texto_documento', limite de grupos para teste: 3.\n",
      "2025-04-21 21:54:20,546 - INFO - Analisando características de 6 textos (TF-IDF)...\n",
      "2025-04-21 21:54:20,547 - INFO - Análise TF-IDF concluída. 6 textos processados, 23 características (palavras/termos) identificadas.\n",
      "2025-04-21 21:54:20,548 - INFO - Avaliando diferentes números de grupos (método do cotovelo)...\n",
      "2025-04-21 21:54:20,548 - INFO - Calculando opções de agrupamento (inércias) para K de 1 a 3...\n"
     ]
    },
    {
     "name": "stdout",
     "output_type": "stream",
     "text": [
      "Preparando o subcluster...\n"
     ]
    },
    {
     "name": "stderr",
     "output_type": "stream",
     "text": [
      "Avaliando número de grupos (K): 100%|██████████| 3/3 [00:00<00:00, 43.76K/s]\n",
      "2025-04-21 21:54:20,620 - INFO - Cálculo das opções de agrupamento (inércias) concluído.\n",
      "2025-04-21 21:54:20,621 - WARNING - O gráfico do cotovelo pode estar incompleto devido a erros no cálculo de alguns valores de K (exibindo 2 pontos).\n",
      "2025-04-21 21:54:20,622 - INFO - Gerando gráfico do cotovelo para visualização...\n",
      "2025-04-21 21:54:20,637 - INFO - Exibindo gráfico do cotovelo...\n"
     ]
    },
    {
     "data": {
      "image/png": "[encoded data removed]",
      "text/plain": [
       "<Figure size 1000x600 with 1 Axes>"
      ]
     },
     "metadata": {},
     "output_type": "display_data"
    },
    {
     "name": "stderr",
     "output_type": "stream",
     "text": [
      "2025-04-21 21:54:20,744 - INFO - Preparação da rodada 1 concluída. Analise o gráfico do cotovelo (baseado em 6 textos) para escolher o número de grupos (K).\n",
      "2025-04-21 21:54:20,744 - INFO - Iniciando agrupamento (clusterização) em 2 grupos para a rodada 1 (prefixo: 'subcluster_').\n",
      "2025-04-21 21:54:20,746 - INFO - Agrupando 6 textos em 2 grupos (K-Means)...\n",
      "2025-04-21 21:54:20,749 - INFO - Agrupamento K-Means concluído. 6 textos foram atribuídos a grupos.\n",
      "2025-04-21 21:54:20,749 - INFO - Coluna de resultados 'subcluster_1' adicionada/atualizada.\n",
      "2025-04-21 21:54:20,752 - INFO - Agrupamento da rodada 1 (prefixo 'subcluster_') concluído com sucesso. Resultados na coluna 'subcluster_1'.\n"
     ]
    },
    {
     "name": "stdout",
     "output_type": "stream",
     "text": [
      "\n",
      "Clusterizando o subcluster com K=2...\n",
      "Subclusterização concluída. Coluna 'subcluster_1' adicionada ao DataFrame 'sub_cf.df'.\n"
     ]
    },
    {
     "data": {
      "text/html": [
       "<div>\n",
       "<style scoped>\n",
       "    .dataframe tbody tr th:only-of-type {\n",
       "        vertical-align: middle;\n",
       "    }\n",
       "\n",
       "    .dataframe tbody tr th {\n",
       "        vertical-align: top;\n",
       "    }\n",
       "\n",
       "    .dataframe thead th {\n",
       "        text-align: right;\n",
       "    }\n",
       "</style>\n",
       "<table border=\"1\" class=\"dataframe\">\n",
       "  <thead>\n",
       "    <tr style=\"text-align: right;\">\n",
       "      <th></th>\n",
       "      <th>id</th>\n",
       "      <th>subcluster_1</th>\n",
       "      <th>texto_documento</th>\n",
       "    </tr>\n",
       "  </thead>\n",
       "  <tbody>\n",
       "    <tr>\n",
       "      <th>0</th>\n",
       "      <td>1</td>\n",
       "      <td>1</td>\n",
       "      <td>O juiz determinou o pagamento da indenização.</td>\n",
       "    </tr>\n",
       "    <tr>\n",
       "      <th>1</th>\n",
       "      <td>2</td>\n",
       "      <td>0</td>\n",
       "      <td>Recurso de apelação foi interposto pela defesa.</td>\n",
       "    </tr>\n",
       "    <tr>\n",
       "      <th>2</th>\n",
       "      <td>3</td>\n",
       "      <td>0</td>\n",
       "      <td>A sentença julgou procedente o pedido do autor.</td>\n",
       "    </tr>\n",
       "    <tr>\n",
       "      <th>3</th>\n",
       "      <td>4</td>\n",
       "      <td>0</td>\n",
       "      <td>A corte negou provimento ao recurso especial.</td>\n",
       "    </tr>\n",
       "    <tr>\n",
       "      <th>5</th>\n",
       "      <td>6</td>\n",
       "      <td>0</td>\n",
       "      <td>Acordo homologado entre as partes.</td>\n",
       "    </tr>\n",
       "    <tr>\n",
       "      <th>6</th>\n",
       "      <td>7</td>\n",
       "      <td>1</td>\n",
       "      <td>Indenização por danos morais foi concedida.</td>\n",
       "    </tr>\n",
       "  </tbody>\n",
       "</table>\n",
       "</div>"
      ],
      "text/plain": [
       "   id  subcluster_1                                  texto_documento\n",
       "0   1             1    O juiz determinou o pagamento da indenização.\n",
       "1   2             0  Recurso de apelação foi interposto pela defesa.\n",
       "2   3             0  A sentença julgou procedente o pedido do autor.\n",
       "3   4             0    A corte negou provimento ao recurso especial.\n",
       "5   6             0               Acordo homologado entre as partes.\n",
       "6   7             1      Indenização por danos morais foi concedida."
      ]
     },
     "metadata": {},
     "output_type": "display_data"
    }
   ],
   "source": [
    "print(\"Preparando o subcluster...\")\n",
    "# Usamos a mesma coluna de texto original. limite_k pode ser menor.\n",
    "# O gráfico do cotovelo será exibido para o subcluster.\n",
    "sub_cf.preparar(coluna_textos='texto_documento', limite_k=3, plotar_cotovelo=True)\n",
    "\n",
    "# Supondo que o cotovelo para o subcluster sugira K=2\n",
    "k_subcluster = 2\n",
    "print(f\"\\nClusterizando o subcluster com K={k_subcluster}...\")\n",
    "nome_coluna_subcluster = sub_cf.clusterizar(num_clusters=k_subcluster)\n",
    "\n",
    "print(f\"Subclusterização concluída. Coluna '{nome_coluna_subcluster}' adicionada ao DataFrame 'sub_cf.df'.\")\n",
    "display(sub_cf.df[['id', nome_coluna_subcluster, 'texto_documento']])"
   ]
  },
  {
   "cell_type": "markdown",
   "metadata": {},
   "source": [
    "## 11. Resetando o Estado\n",
    "\n",
    "Se quisermos recomeçar a análise no DataFrame original (por exemplo, tentar um K diferente na primeira rodada) sem perder os dados originais, podemos usar `resetar`.\n",
    "\n",
    "Isso remove todas as colunas de cluster (`cluster_*`, `subcluster_*`) e a coluna de classificação (`classificacao`) da instância original `cf`."
   ]
  },
  {
   "cell_type": "code",
   "execution_count": 13,
   "metadata": {},
   "outputs": [
    {
     "name": "stdout",
     "output_type": "stream",
     "text": [
      "Estado do DataFrame 'cf' ANTES do reset:\n"
     ]
    },
    {
     "data": {
      "text/html": [
       "<div>\n",
       "<style scoped>\n",
       "    .dataframe tbody tr th:only-of-type {\n",
       "        vertical-align: middle;\n",
       "    }\n",
       "\n",
       "    .dataframe tbody tr th {\n",
       "        vertical-align: top;\n",
       "    }\n",
       "\n",
       "    .dataframe thead th {\n",
       "        text-align: right;\n",
       "    }\n",
       "</style>\n",
       "<table border=\"1\" class=\"dataframe\">\n",
       "  <thead>\n",
       "    <tr style=\"text-align: right;\">\n",
       "      <th></th>\n",
       "      <th>id</th>\n",
       "      <th>texto_documento</th>\n",
       "      <th>cluster_1</th>\n",
       "      <th>classificacao</th>\n",
       "    </tr>\n",
       "  </thead>\n",
       "  <tbody>\n",
       "    <tr>\n",
       "      <th>0</th>\n",
       "      <td>1</td>\n",
       "      <td>O juiz determinou o pagamento da indenização.</td>\n",
       "      <td>2</td>\n",
       "      <td>Procedente/Indenização</td>\n",
       "    </tr>\n",
       "    <tr>\n",
       "      <th>1</th>\n",
       "      <td>2</td>\n",
       "      <td>Recurso de apelação foi interposto pela defesa.</td>\n",
       "      <td>2</td>\n",
       "      <td>Procedente/Indenização</td>\n",
       "    </tr>\n",
       "    <tr>\n",
       "      <th>2</th>\n",
       "      <td>3</td>\n",
       "      <td>A sentença julgou procedente o pedido do autor.</td>\n",
       "      <td>0</td>\n",
       "      <td>Procedente/Indenização</td>\n",
       "    </tr>\n",
       "    <tr>\n",
       "      <th>3</th>\n",
       "      <td>4</td>\n",
       "      <td>A corte negou provimento ao recurso especial.</td>\n",
       "      <td>2</td>\n",
       "      <td>Procedente/Indenização</td>\n",
       "    </tr>\n",
       "    <tr>\n",
       "      <th>4</th>\n",
       "      <td>5</td>\n",
       "      <td>Processo arquivado por falta de movimentação.</td>\n",
       "      <td>1</td>\n",
       "      <td>Recurso/Extinção</td>\n",
       "    </tr>\n",
       "  </tbody>\n",
       "</table>\n",
       "</div>"
      ],
      "text/plain": [
       "   id                                  texto_documento  cluster_1  \\\n",
       "0   1    O juiz determinou o pagamento da indenização.          2   \n",
       "1   2  Recurso de apelação foi interposto pela defesa.          2   \n",
       "2   3  A sentença julgou procedente o pedido do autor.          0   \n",
       "3   4    A corte negou provimento ao recurso especial.          2   \n",
       "4   5    Processo arquivado por falta de movimentação.          1   \n",
       "\n",
       "            classificacao  \n",
       "0  Procedente/Indenização  \n",
       "1  Procedente/Indenização  \n",
       "2  Procedente/Indenização  \n",
       "3  Procedente/Indenização  \n",
       "4        Recurso/Extinção  "
      ]
     },
     "metadata": {},
     "output_type": "display_data"
    },
    {
     "name": "stderr",
     "output_type": "stream",
     "text": [
      "2025-04-21 21:54:30,224 - WARNING - Iniciando reinicialização do estado do ClusterFacil (Prefixo: 'cluster_', Coluna Classificação: 'classificacao')...\n",
      "2025-04-21 21:54:30,226 - INFO - Colunas de resultados anteriores removidas: ['cluster_1', 'classificacao']\n",
      "2025-04-21 21:54:30,226 - INFO - Estado do ClusterFacil reiniciado. Rodada definida para 1. Chame 'preparar' novamente para começar uma nova análise.\n"
     ]
    },
    {
     "name": "stdout",
     "output_type": "stream",
     "text": [
      "\n",
      "Estado do DataFrame 'cf' DEPOIS do reset (colunas de cluster/classificação removidas):\n"
     ]
    },
    {
     "data": {
      "text/html": [
       "<div>\n",
       "<style scoped>\n",
       "    .dataframe tbody tr th:only-of-type {\n",
       "        vertical-align: middle;\n",
       "    }\n",
       "\n",
       "    .dataframe tbody tr th {\n",
       "        vertical-align: top;\n",
       "    }\n",
       "\n",
       "    .dataframe thead th {\n",
       "        text-align: right;\n",
       "    }\n",
       "</style>\n",
       "<table border=\"1\" class=\"dataframe\">\n",
       "  <thead>\n",
       "    <tr style=\"text-align: right;\">\n",
       "      <th></th>\n",
       "      <th>id</th>\n",
       "      <th>texto_documento</th>\n",
       "    </tr>\n",
       "  </thead>\n",
       "  <tbody>\n",
       "    <tr>\n",
       "      <th>0</th>\n",
       "      <td>1</td>\n",
       "      <td>O juiz determinou o pagamento da indenização.</td>\n",
       "    </tr>\n",
       "    <tr>\n",
       "      <th>1</th>\n",
       "      <td>2</td>\n",
       "      <td>Recurso de apelação foi interposto pela defesa.</td>\n",
       "    </tr>\n",
       "    <tr>\n",
       "      <th>2</th>\n",
       "      <td>3</td>\n",
       "      <td>A sentença julgou procedente o pedido do autor.</td>\n",
       "    </tr>\n",
       "    <tr>\n",
       "      <th>3</th>\n",
       "      <td>4</td>\n",
       "      <td>A corte negou provimento ao recurso especial.</td>\n",
       "    </tr>\n",
       "    <tr>\n",
       "      <th>4</th>\n",
       "      <td>5</td>\n",
       "      <td>Processo arquivado por falta de movimentação.</td>\n",
       "    </tr>\n",
       "  </tbody>\n",
       "</table>\n",
       "</div>"
      ],
      "text/plain": [
       "   id                                  texto_documento\n",
       "0   1    O juiz determinou o pagamento da indenização.\n",
       "1   2  Recurso de apelação foi interposto pela defesa.\n",
       "2   3  A sentença julgou procedente o pedido do autor.\n",
       "3   4    A corte negou provimento ao recurso especial.\n",
       "4   5    Processo arquivado por falta de movimentação."
      ]
     },
     "metadata": {},
     "output_type": "display_data"
    }
   ],
   "source": [
    "print(\"Estado do DataFrame 'cf' ANTES do reset:\")\n",
    "display(cf.df.head())\n",
    "\n",
    "cf.resetar()\n",
    "\n",
    "print(\"\\nEstado do DataFrame 'cf' DEPOIS do reset (colunas de cluster/classificação removidas):\")\n",
    "display(cf.df.head())"
   ]
  },
  {
   "cell_type": "markdown",
   "metadata": {},
   "source": [
    "--- \n",
    "\n",
    "Fim do exemplo detalhado!"
   ]
  }
 ],
 "metadata": {
  "kernelspec": {
   "display_name": ".venv",
   "language": "python",
   "name": "python3"
  },
  "language_info": {
   "codemirror_mode": {
    "name": "ipython",
    "version": 3
   },
   "file_extension": ".py",
   "mimetype": "text/x-python",
   "name": "python",
   "nbconvert_exporter": "python",
   "pygments_lexer": "ipython3",
   "version": "3.12.5"
  }
 },
 "nbformat": 4,
 "nbformat_minor": 4
}
